{
 "cells": [
  {
   "cell_type": "code",
   "execution_count": 2,
   "metadata": {},
   "outputs": [],
   "source": [
    "import numpy as np"
   ]
  },
  {
   "cell_type": "markdown",
   "metadata": {},
   "source": [
    "### Métodos de Ordenacion"
   ]
  },
  {
   "cell_type": "markdown",
   "metadata": {},
   "source": [
    "#### Bubble Sort"
   ]
  },
  {
   "cell_type": "code",
   "execution_count": 3,
   "metadata": {},
   "outputs": [],
   "source": [
    "def bubbleSort(a):\n",
    "    n = len(a)\n",
    "    for i in range(n):\n",
    "        for j in range(0, n-i-1):\n",
    "            if a[j] > a[j + 1]:\n",
    "                a[j], a[j+1] = a[j+1], a[j]\n",
    "    return a"
   ]
  },
  {
   "cell_type": "markdown",
   "metadata": {},
   "source": [
    "#### Insertion Sort"
   ]
  },
  {
   "cell_type": "code",
   "execution_count": 4,
   "metadata": {},
   "outputs": [],
   "source": [
    "def insertionSort(a):\n",
    "    for i in range(len(a)):\n",
    "        minIndex = i\n",
    "        for j in range(i+1, len(a)):\n",
    "            if a[minIndex] > a[j]:\n",
    "                minIndex = j\n",
    "        a[i], a[minIndex] = a[minIndex], a[i]\n",
    "    return a"
   ]
  },
  {
   "cell_type": "markdown",
   "metadata": {},
   "source": [
    "#### Merge Sort"
   ]
  },
  {
   "cell_type": "code",
   "execution_count": 5,
   "metadata": {},
   "outputs": [],
   "source": [
    "def merge(left, right):\n",
    "    if len(left) == 0: return right\n",
    "    if len(right) == 0: return left\n",
    "    \n",
    "    n = len(left) + len(right)\n",
    "    resp = np.empty(n)\n",
    "    i = 0\n",
    "    j = 0\n",
    "    while(i + j < n):\n",
    "        if(i < len(left) and (j >= len(right) or left[i] <= right[j])):\n",
    "            resp[i+j] = left[i]\n",
    "            i += 1\n",
    "        else:\n",
    "            resp[i+j] = right[j]\n",
    "            j += 1\n",
    "    return resp        \n",
    "\n",
    "def mergeSort(arr):\n",
    "    if(len(arr) > 1):\n",
    "        corte = int(len(arr)/2)\n",
    "        return merge(mergeSort(arr[:corte]), mergeSort(arr[corte:]))\n",
    "    else:\n",
    "        return arr"
   ]
  },
  {
   "cell_type": "raw",
   "metadata": {},
   "source": [
    "%load_ext Cython"
   ]
  },
  {
   "cell_type": "raw",
   "metadata": {},
   "source": [
    "%%cython\n",
    "\n",
    "def bubbleSortC(a):\n",
    "    cdef int n = len(a)\n",
    "    for i in range(n):\n",
    "        for j in range(0, n-i-1):\n",
    "            if a[j] > a[j + 1]:\n",
    "                a[j], a[j+1] = a[j+1], a[j]\n",
    "    return a"
   ]
  },
  {
   "cell_type": "raw",
   "metadata": {},
   "source": [
    "%%cython\n",
    "import numpy as np\n",
    "\n",
    "def mergeC(left, right):\n",
    "    if len(left) == 0: return right\n",
    "    if len(right) == 0: return left\n",
    "    \n",
    "    n = len(left) + len(right)\n",
    "    resp = np.empty(n)\n",
    "    i = 0\n",
    "    j = 0\n",
    "    while(i + j < n):\n",
    "        if(i < len(left) and (j >= len(right) or left[i] <= right[j])):\n",
    "            resp[i+j] = left[i]\n",
    "            i += 1\n",
    "        else:\n",
    "            resp[i+j] = right[j]\n",
    "            j += 1\n",
    "    return resp        \n",
    "\n",
    "def mergeSortC(arr):\n",
    "    if(len(arr) > 1):\n",
    "        corte = int(len(arr)/2)\n",
    "        return mergeC(mergeSortC(arr[:corte]), mergeSortC(arr[corte:]))\n",
    "    else:\n",
    "        return arr"
   ]
  },
  {
   "cell_type": "code",
   "execution_count": null,
   "metadata": {},
   "outputs": [],
   "source": []
  }
 ],
 "metadata": {
  "kernelspec": {
   "display_name": "Python 3",
   "language": "python",
   "name": "python3"
  },
  "language_info": {
   "codemirror_mode": {
    "name": "ipython",
    "version": 3
   },
   "file_extension": ".py",
   "mimetype": "text/x-python",
   "name": "python",
   "nbconvert_exporter": "python",
   "pygments_lexer": "ipython3",
   "version": "3.6.5"
  }
 },
 "nbformat": 4,
 "nbformat_minor": 2
}
