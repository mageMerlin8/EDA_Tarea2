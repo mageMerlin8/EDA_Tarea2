{
 "cells": [
  {
   "cell_type": "code",
   "execution_count": 21,
   "metadata": {},
   "outputs": [],
   "source": [
    "import random as rand\n",
    "import numpy as np\n",
    "import timeit as t\n",
    "import matplotlib.pyplot as plt"
   ]
  },
  {
   "cell_type": "markdown",
   "metadata": {},
   "source": [
    "#### Checar que una lista o arreglo esté ordenada"
   ]
  },
  {
   "cell_type": "code",
   "execution_count": 2,
   "metadata": {},
   "outputs": [],
   "source": [
    "def isSortedAsc(a):\n",
    "    return all(a[i] <= a[i+1] for i in range(len(a) - 1))\n",
    "\n",
    "def isSortedDesc(a):\n",
    "    return all(a[i] >= a[i+1] for i in range(len(a) - 1))"
   ]
  },
  {
   "cell_type": "markdown",
   "metadata": {},
   "source": [
    "#### Crear un arreglo de numeros aleatorios"
   ]
  },
  {
   "cell_type": "code",
   "execution_count": 4,
   "metadata": {},
   "outputs": [],
   "source": [
    "def createDoubleArray(size):\n",
    "    arr = []\n",
    "    for i in range(size):\n",
    "        arr.append(rand.random())\n",
    "    return np.array(arr, dtype = float)\n",
    "\n",
    "def createIntArray(size):\n",
    "    arr = []\n",
    "    num = size*2\n",
    "    for i in range(size):\n",
    "        arr.append(rand.randint(0,num))\n",
    "    return np.array(arr, dtype = int)"
   ]
  },
  {
   "cell_type": "markdown",
   "metadata": {},
   "source": [
    "#### Crea un arreglo de pruebas donde cada prueba tiene un arreglo de enteros de tamaño px[i]"
   ]
  },
  {
   "cell_type": "code",
   "execution_count": 5,
   "metadata": {},
   "outputs": [],
   "source": [
    "def getPruebas(px):\n",
    "    pruebas = []\n",
    "    for i in px:\n",
    "        pruebas.append(createIntArray(i))\n",
    "    return pruebas  "
   ]
  },
  {
   "cell_type": "markdown",
   "metadata": {},
   "source": [
    "#### Función que mide el tiempo de ejecucion de una funcion (funk) un número de veces (this)"
   ]
  },
  {
   "cell_type": "code",
   "execution_count": 6,
   "metadata": {},
   "outputs": [],
   "source": [
    "def time(funk, this):\n",
    "    return t.timeit(funk, number=this)"
   ]
  },
  {
   "cell_type": "markdown",
   "metadata": {},
   "source": [
    "#### Hace pruebas de una funcion"
   ]
  },
  {
   "cell_type": "code",
   "execution_count": 28,
   "metadata": {},
   "outputs": [],
   "source": [
    "def checaResultados(resultados):\n",
    "    return all(isSortedAsc(i) for i in resultados['arreglosOrdenados'])"
   ]
  },
  {
   "cell_type": "code",
   "execution_count": 5,
   "metadata": {},
   "outputs": [],
   "source": [
    "def plotResults(resultados, shapeColor=''):\n",
    "    plt.plot(resultados['px'], resultados['resultados'], shapeColor, label=resultados['funcion'])\n",
    "    plt.ylabel('Tiempo (segundos)')\n",
    "    plt.xlabel('Tamaño del arreglo')\n",
    "    plt.legend()"
   ]
  },
  {
   "cell_type": "code",
   "execution_count": 2,
   "metadata": {},
   "outputs": [],
   "source": [
    "def correPruebas(funk, px):\n",
    "    resultados = []\n",
    "    arreglosOrdenados = []\n",
    "    pruebas = getPruebas(px)\n",
    "    for prueba in pruebas:\n",
    "        def pruebaTiempo():\n",
    "            arreglosOrdenados.append(funk(prueba))  \n",
    "        resultados.append(time(pruebaTiempo, 1))\n",
    "        \n",
    "    return {'resultados':resultados, 'arreglosOrdenados':arreglosOrdenados, 'px':px, 'funcion':funk.__name__}"
   ]
  },
  {
   "cell_type": "code",
   "execution_count": null,
   "metadata": {},
   "outputs": [],
   "source": []
  },
  {
   "cell_type": "code",
   "execution_count": null,
   "metadata": {},
   "outputs": [],
   "source": []
  }
 ],
 "metadata": {
  "kernelspec": {
   "display_name": "Python 3",
   "language": "python",
   "name": "python3"
  },
  "language_info": {
   "codemirror_mode": {
    "name": "ipython",
    "version": 3
   },
   "file_extension": ".py",
   "mimetype": "text/x-python",
   "name": "python",
   "nbconvert_exporter": "python",
   "pygments_lexer": "ipython3",
   "version": "3.6.5"
  }
 },
 "nbformat": 4,
 "nbformat_minor": 2
}
